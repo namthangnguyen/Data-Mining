{
 "cells": [
  {
   "cell_type": "code",
   "execution_count": 1,
   "metadata": {
    "colab": {
     "base_uri": "https://localhost:8080/",
     "height": 34
    },
    "colab_type": "code",
    "executionInfo": {
     "elapsed": 1728,
     "status": "ok",
     "timestamp": 1591948236421,
     "user": {
      "displayName": "Thắng Nam",
      "photoUrl": "",
      "userId": "14647224858970176131"
     },
     "user_tz": -420
    },
    "id": "mR5XXQEIuDKQ",
    "outputId": "bdc38af0-89c6-46d2-c9c7-bba46ac93dbf"
   },
   "outputs": [
    {
     "name": "stdout",
     "output_type": "stream",
     "text": [
      "Drive already mounted at /content/drive; to attempt to forcibly remount, call drive.mount(\"/content/drive\", force_remount=True).\n"
     ]
    }
   ],
   "source": [
    "from google.colab import drive\n",
    "drive.mount('/content/drive')"
   ]
  },
  {
   "cell_type": "code",
   "execution_count": 0,
   "metadata": {
    "colab": {},
    "colab_type": "code",
    "id": "P_SNorO9uR-t"
   },
   "outputs": [],
   "source": [
    "import numpy as np\n",
    "import tensorflow as tf\n",
    "import matplotlib.pyplot as plt\n",
    "import random\n",
    "import pickle\n",
    "from sklearn import preprocessing\n",
    "import cv2"
   ]
  },
  {
   "cell_type": "code",
   "execution_count": 0,
   "metadata": {
    "colab": {},
    "colab_type": "code",
    "id": "2ynpV1Quu1q4"
   },
   "outputs": [],
   "source": [
    "path_come = '/content/drive/My Drive/DataMining/MLP'\n",
    "\n",
    "x_train = pickle.load(open(path_come + '/data_emnist/x_train.pkl', 'rb'))\n",
    "y_train = pickle.load(open(path_come + '/data_emnist/y_train.pkl', 'rb'))\n",
    "x_test = pickle.load(open(path_come + '/data_emnist/x_test.pkl', 'rb'))\n",
    "y_test = pickle.load(open(path_come + '/data_emnist/y_test.pkl', 'rb'))"
   ]
  },
  {
   "cell_type": "code",
   "execution_count": 43,
   "metadata": {
    "colab": {
     "base_uri": "https://localhost:8080/",
     "height": 298
    },
    "colab_type": "code",
    "executionInfo": {
     "elapsed": 890,
     "status": "ok",
     "timestamp": 1591949130129,
     "user": {
      "displayName": "Thắng Nam",
      "photoUrl": "",
      "userId": "14647224858970176131"
     },
     "user_tz": -420
    },
    "id": "l9E5JUuPdYkD",
    "outputId": "511fc637-d2e0-4007-f1fe-1ecd97398867"
   },
   "outputs": [
    {
     "name": "stdout",
     "output_type": "stream",
     "text": [
      "U\n"
     ]
    },
    {
     "data": {
      "text/plain": [
       "<matplotlib.image.AxesImage at 0x7f1c1c11f160>"
      ]
     },
     "execution_count": 43,
     "metadata": {
      "tags": []
     },
     "output_type": "execute_result"
    },
    {
     "data": {
      "image/png": "[encoded data removed]",
      "text/plain": [
       "<Figure size 432x288 with 1 Axes>"
      ]
     },
     "metadata": {
      "needs_background": "light",
      "tags": []
     },
     "output_type": "display_data"
    }
   ],
   "source": [
    "image_index = random.randint(0, 30000)\n",
    "print(y_train[image_index])\n",
    "plt.imshow(x_train[image_index], cmap='Greys')"
   ]
  },
  {
   "cell_type": "code",
   "execution_count": 44,
   "metadata": {
    "colab": {
     "base_uri": "https://localhost:8080/",
     "height": 34
    },
    "colab_type": "code",
    "executionInfo": {
     "elapsed": 1038,
     "status": "ok",
     "timestamp": 1591949136105,
     "user": {
      "displayName": "Thắng Nam",
      "photoUrl": "",
      "userId": "14647224858970176131"
     },
     "user_tz": -420
    },
    "id": "-fTVS6zpvWJB",
    "outputId": "8f9ac74f-28e9-424e-a3c6-d336f9668844"
   },
   "outputs": [
    {
     "data": {
      "text/plain": [
       "(348687, 28, 28)"
      ]
     },
     "execution_count": 44,
     "metadata": {
      "tags": []
     },
     "output_type": "execute_result"
    }
   ],
   "source": [
    "x_train.shape"
   ]
  },
  {
   "cell_type": "code",
   "execution_count": 45,
   "metadata": {
    "colab": {
     "base_uri": "https://localhost:8080/",
     "height": 84
    },
    "colab_type": "code",
    "executionInfo": {
     "elapsed": 1046,
     "status": "ok",
     "timestamp": 1591949142754,
     "user": {
      "displayName": "Thắng Nam",
      "photoUrl": "",
      "userId": "14647224858970176131"
     },
     "user_tz": -420
    },
    "id": "5h0IUGhNv5wr",
    "outputId": "76dff8be-c555-4df9-893f-0e6107804839"
   },
   "outputs": [
    {
     "data": {
      "text/plain": [
       "array(['#', '$', '&', '0', '1', '2', '3', '4', '5', '6', '7', '8', '9',\n",
       "       '@', 'A', 'B', 'C', 'D', 'E', 'F', 'G', 'H', 'I', 'J', 'K', 'L',\n",
       "       'M', 'N', 'P', 'Q', 'R', 'S', 'T', 'U', 'V', 'W', 'X', 'Y', 'Z'],\n",
       "      dtype='<U1')"
      ]
     },
     "execution_count": 45,
     "metadata": {
      "tags": []
     },
     "output_type": "execute_result"
    }
   ],
   "source": [
    "le = preprocessing.LabelEncoder()\n",
    "le.fit(y_train)\n",
    "le.classes_"
   ]
  },
  {
   "cell_type": "markdown",
   "metadata": {
    "colab_type": "text",
    "id": "Sl3UBu-UwFTA"
   },
   "source": [
    "\n",
    "Xóa các dữ liệu không nằm trong phạm vi bài toán ['#', '$', '&', '@']"
   ]
  },
  {
   "cell_type": "code",
   "execution_count": 46,
   "metadata": {
    "colab": {
     "base_uri": "https://localhost:8080/",
     "height": 34
    },
    "colab_type": "code",
    "executionInfo": {
     "elapsed": 1024,
     "status": "ok",
     "timestamp": 1591949145712,
     "user": {
      "displayName": "Thắng Nam",
      "photoUrl": "",
      "userId": "14647224858970176131"
     },
     "user_tz": -420
    },
    "id": "0jH-ltsYwYW9",
    "outputId": "15304ef8-2b37-4185-8974-e29e76f43708"
   },
   "outputs": [
    {
     "data": {
      "text/plain": [
       "(308683, 28, 28)"
      ]
     },
     "execution_count": 46,
     "metadata": {
      "tags": []
     },
     "output_type": "execute_result"
    }
   ],
   "source": [
    "temp1 = np.where((y_train == '#') | (y_train == '$') | (y_train == '&') | (y_train == '@'))\n",
    "y_train = np.delete(y_train, temp1[0])\n",
    "x_train = np.delete(x_train, temp1[0], axis = 0)\n",
    "\n",
    "temp2 = np.where((y_test == '#') | (y_test == '$') | (y_test == '&') | (y_test == '@'))\n",
    "y_test = np.delete(y_test, temp2[0])\n",
    "x_test = np.delete(x_test, temp2[0], axis = 0)\n",
    "\n",
    "x_train.shape"
   ]
  },
  {
   "cell_type": "code",
   "execution_count": 47,
   "metadata": {
    "colab": {
     "base_uri": "https://localhost:8080/",
     "height": 67
    },
    "colab_type": "code",
    "executionInfo": {
     "elapsed": 828,
     "status": "ok",
     "timestamp": 1591949148616,
     "user": {
      "displayName": "Thắng Nam",
      "photoUrl": "",
      "userId": "14647224858970176131"
     },
     "user_tz": -420
    },
    "id": "SzW2pUWUisn3",
    "outputId": "0ab46387-c488-49a6-a699-30003212661b"
   },
   "outputs": [
    {
     "data": {
      "text/plain": [
       "array(['0', '1', '2', '3', '4', '5', '6', '7', '8', '9', 'A', 'B', 'C',\n",
       "       'D', 'E', 'F', 'G', 'H', 'I', 'J', 'K', 'L', 'M', 'N', 'P', 'Q',\n",
       "       'R', 'S', 'T', 'U', 'V', 'W', 'X', 'Y', 'Z'], dtype='<U1')"
      ]
     },
     "execution_count": 47,
     "metadata": {
      "tags": []
     },
     "output_type": "execute_result"
    }
   ],
   "source": [
    "le.fit(y_train)\n",
    "le.classes_"
   ]
  },
  {
   "cell_type": "code",
   "execution_count": 0,
   "metadata": {
    "colab": {},
    "colab_type": "code",
    "id": "I9PtZQvhi_0m"
   },
   "outputs": [],
   "source": [
    "y_train = le.transform(y_train)\n",
    "y_test = le.transform(y_test)"
   ]
  },
  {
   "cell_type": "code",
   "execution_count": 49,
   "metadata": {
    "colab": {
     "base_uri": "https://localhost:8080/",
     "height": 34
    },
    "colab_type": "code",
    "executionInfo": {
     "elapsed": 545,
     "status": "ok",
     "timestamp": 1591949152414,
     "user": {
      "displayName": "Thắng Nam",
      "photoUrl": "",
      "userId": "14647224858970176131"
     },
     "user_tz": -420
    },
    "id": "-mOtE-f4v9iC",
    "outputId": "8b5a7c44-a67a-476a-fa71-65fd346f803b"
   },
   "outputs": [
    {
     "data": {
      "text/plain": [
       "array([ 1, 24,  7, ..., 25, 18,  9])"
      ]
     },
     "execution_count": 49,
     "metadata": {
      "tags": []
     },
     "output_type": "execute_result"
    }
   ],
   "source": [
    "y_train"
   ]
  },
  {
   "cell_type": "code",
   "execution_count": 0,
   "metadata": {
    "colab": {},
    "colab_type": "code",
    "id": "up0a9XcDvnAY"
   },
   "outputs": [],
   "source": [
    "x_train = x_train.astype('float32')\n",
    "x_test = x_test.astype('float32')\n",
    "x_test = x_test / 255\n",
    "x_train = x_train / 255\n",
    "x_train = x_train.reshape(x_train.shape[0], 28, 28, 1)\n",
    "x_test = x_test.reshape(x_test.shape[0], 28, 28, 1)"
   ]
  },
  {
   "cell_type": "code",
   "execution_count": 0,
   "metadata": {
    "colab": {},
    "colab_type": "code",
    "id": "g4nVFDRXv1DJ"
   },
   "outputs": [],
   "source": [
    "from tensorflow.keras import Sequential\n",
    "from tensorflow.keras.layers import Conv2D, MaxPooling2D, Flatten, Dense, Dropout\n",
    "from tensorflow.keras.optimizers import Adam\n",
    "from tensorflow.keras.callbacks import ModelCheckpoint\n",
    "from keras.utils import np_utils"
   ]
  },
  {
   "cell_type": "code",
   "execution_count": 0,
   "metadata": {
    "colab": {},
    "colab_type": "code",
    "id": "0Oi0Erh_g5kh"
   },
   "outputs": [],
   "source": [
    "Y_train = np_utils.to_categorical(y_train, 35)\n",
    "Y_test = np_utils.to_categorical(y_test, 35)"
   ]
  },
  {
   "cell_type": "code",
   "execution_count": 53,
   "metadata": {
    "colab": {
     "base_uri": "https://localhost:8080/",
     "height": 34
    },
    "colab_type": "code",
    "executionInfo": {
     "elapsed": 1041,
     "status": "ok",
     "timestamp": 1591949163891,
     "user": {
      "displayName": "Thắng Nam",
      "photoUrl": "",
      "userId": "14647224858970176131"
     },
     "user_tz": -420
    },
    "id": "E7dh45ivsMxO",
    "outputId": "a9c2eff4-01cb-4ce5-8847-8a1975b86560"
   },
   "outputs": [
    {
     "data": {
      "text/plain": [
       "(308683, 35)"
      ]
     },
     "execution_count": 53,
     "metadata": {
      "tags": []
     },
     "output_type": "execute_result"
    }
   ],
   "source": [
    "Y_train.shape"
   ]
  },
  {
   "cell_type": "code",
   "execution_count": 0,
   "metadata": {
    "colab": {},
    "colab_type": "code",
    "id": "bHduutaHsZwv"
   },
   "outputs": [],
   "source": [
    "from sklearn.model_selection import train_test_split\n",
    "X, X_val, Y, Y_val = train_test_split(x_train, Y_train, test_size=0.3, random_state=24)"
   ]
  },
  {
   "cell_type": "code",
   "execution_count": 55,
   "metadata": {
    "colab": {
     "base_uri": "https://localhost:8080/",
     "height": 554
    },
    "colab_type": "code",
    "executionInfo": {
     "elapsed": 934,
     "status": "ok",
     "timestamp": 1591949177021,
     "user": {
      "displayName": "Thắng Nam",
      "photoUrl": "",
      "userId": "14647224858970176131"
     },
     "user_tz": -420
    },
    "id": "YM2UDUVysjN7",
    "outputId": "8611f57c-45b0-45d1-9356-a56054f09632"
   },
   "outputs": [
    {
     "name": "stdout",
     "output_type": "stream",
     "text": [
      "Model: \"sequential_1\"\n",
      "_________________________________________________________________\n",
      "Layer (type)                 Output Shape              Param #   \n",
      "=================================================================\n",
      "conv2d_4 (Conv2D)            (None, 28, 28, 32)        320       \n",
      "_________________________________________________________________\n",
      "conv2d_5 (Conv2D)            (None, 26, 26, 32)        9248      \n",
      "_________________________________________________________________\n",
      "max_pooling2d_2 (MaxPooling2 (None, 13, 13, 32)        0         \n",
      "_________________________________________________________________\n",
      "dropout_3 (Dropout)          (None, 13, 13, 32)        0         \n",
      "_________________________________________________________________\n",
      "conv2d_6 (Conv2D)            (None, 13, 13, 64)        18496     \n",
      "_________________________________________________________________\n",
      "conv2d_7 (Conv2D)            (None, 11, 11, 64)        36928     \n",
      "_________________________________________________________________\n",
      "max_pooling2d_3 (MaxPooling2 (None, 5, 5, 64)          0         \n",
      "_________________________________________________________________\n",
      "dropout_4 (Dropout)          (None, 5, 5, 64)          0         \n",
      "_________________________________________________________________\n",
      "flatten_1 (Flatten)          (None, 1600)              0         \n",
      "_________________________________________________________________\n",
      "dense_2 (Dense)              (None, 512)               819712    \n",
      "_________________________________________________________________\n",
      "dropout_5 (Dropout)          (None, 512)               0         \n",
      "_________________________________________________________________\n",
      "dense_3 (Dense)              (None, 35)                17955     \n",
      "=================================================================\n",
      "Total params: 902,659\n",
      "Trainable params: 902,659\n",
      "Non-trainable params: 0\n",
      "_________________________________________________________________\n"
     ]
    }
   ],
   "source": [
    "model = Sequential()\n",
    "\n",
    "model.add(Conv2D(32, kernel_size=(3, 3), padding='same', activation='relu', input_shape=(28, 28, 1)))\n",
    "model.add(Conv2D(32, kernel_size=(3, 3), activation='relu'))\n",
    "model.add(MaxPooling2D((2, 2)))\n",
    "model.add(Dropout(0.25))\n",
    "\n",
    "model.add(Conv2D(64, kernel_size=(3, 3), padding='same', activation='relu'))\n",
    "model.add(Conv2D(64, kernel_size=(3, 3), activation='relu'))\n",
    "model.add(MaxPooling2D((2, 2)))\n",
    "model.add(Dropout(0.25))\n",
    "\n",
    "model.add(Flatten())\n",
    "model.add(Dense(512, activation='relu'))\n",
    "model.add(Dropout(0.5))\n",
    "model.add(Dense(35, activation = \"softmax\"))\n",
    "\n",
    "model.compile(loss = 'categorical_crossentropy', optimizer = Adam(), metrics = ['accuracy'])\n",
    "model.summary()"
   ]
  },
  {
   "cell_type": "code",
   "execution_count": 56,
   "metadata": {
    "colab": {
     "base_uri": "https://localhost:8080/",
     "height": 353
    },
    "colab_type": "code",
    "executionInfo": {
     "elapsed": 384988,
     "status": "ok",
     "timestamp": 1591949565853,
     "user": {
      "displayName": "Thắng Nam",
      "photoUrl": "",
      "userId": "14647224858970176131"
     },
     "user_tz": -420
    },
    "id": "9ZyfwOE9stoJ",
    "outputId": "06eda4e9-b979-471d-b6cc-e0bcf8aa0d17"
   },
   "outputs": [
    {
     "name": "stdout",
     "output_type": "stream",
     "text": [
      "Epoch 1/10\n",
      "6753/6753 [==============================] - 38s 6ms/step - loss: 0.4622 - accuracy: 0.8515 - val_loss: 0.2527 - val_accuracy: 0.9115\n",
      "Epoch 2/10\n",
      "6753/6753 [==============================] - 38s 6ms/step - loss: 0.2916 - accuracy: 0.9028 - val_loss: 0.2263 - val_accuracy: 0.9220\n",
      "Epoch 3/10\n",
      "6753/6753 [==============================] - 38s 6ms/step - loss: 0.2626 - accuracy: 0.9107 - val_loss: 0.2135 - val_accuracy: 0.9251\n",
      "Epoch 4/10\n",
      "6753/6753 [==============================] - 38s 6ms/step - loss: 0.2475 - accuracy: 0.9143 - val_loss: 0.2143 - val_accuracy: 0.9253\n",
      "Epoch 5/10\n",
      "6753/6753 [==============================] - 39s 6ms/step - loss: 0.2378 - accuracy: 0.9181 - val_loss: 0.2086 - val_accuracy: 0.9282\n",
      "Epoch 6/10\n",
      "6753/6753 [==============================] - 38s 6ms/step - loss: 0.2321 - accuracy: 0.9188 - val_loss: 0.2137 - val_accuracy: 0.9263\n",
      "Epoch 7/10\n",
      "6753/6753 [==============================] - 38s 6ms/step - loss: 0.2280 - accuracy: 0.9206 - val_loss: 0.2165 - val_accuracy: 0.9272\n",
      "Epoch 8/10\n",
      "6753/6753 [==============================] - 38s 6ms/step - loss: 0.2231 - accuracy: 0.9221 - val_loss: 0.2068 - val_accuracy: 0.9292\n",
      "Epoch 9/10\n",
      "6753/6753 [==============================] - 38s 6ms/step - loss: 0.2218 - accuracy: 0.9225 - val_loss: 0.2040 - val_accuracy: 0.9307\n",
      "Epoch 10/10\n",
      "6753/6753 [==============================] - 39s 6ms/step - loss: 0.2185 - accuracy: 0.9240 - val_loss: 0.2076 - val_accuracy: 0.9287\n"
     ]
    }
   ],
   "source": [
    "H = model.fit(X, Y, validation_data = (X_val, Y_val) , batch_size = 32, epochs = 10)\n",
    "model.save(path_come + '/model.hdf5')"
   ]
  },
  {
   "cell_type": "code",
   "execution_count": 57,
   "metadata": {
    "colab": {
     "base_uri": "https://localhost:8080/",
     "height": 312
    },
    "colab_type": "code",
    "executionInfo": {
     "elapsed": 887,
     "status": "ok",
     "timestamp": 1591950052764,
     "user": {
      "displayName": "Thắng Nam",
      "photoUrl": "",
      "userId": "14647224858970176131"
     },
     "user_tz": -420
    },
    "id": "FIunYfU5vv8m",
    "outputId": "4150e6f6-6337-465f-d638-d94fdad5ba66"
   },
   "outputs": [
    {
     "data": {
      "text/plain": [
       "<matplotlib.legend.Legend at 0x7f1c0a607748>"
      ]
     },
     "execution_count": 57,
     "metadata": {
      "tags": []
     },
     "output_type": "execute_result"
    },
    {
     "data": {
      "image/png": "[encoded data removed]",
      "text/plain": [
       "<Figure size 432x288 with 1 Axes>"
      ]
     },
     "metadata": {
      "needs_background": "light",
      "tags": []
     },
     "output_type": "display_data"
    }
   ],
   "source": [
    "numOfEpoch = 10\n",
    "plt.plot(np.arange(0, numOfEpoch), H.history['loss'], label='training loss')\n",
    "plt.plot(np.arange(0, numOfEpoch), H.history['accuracy'], label='accuracy')\n",
    "plt.plot(np.arange(0, numOfEpoch), H.history['val_accuracy'], label='validation accuracy')\n",
    "plt.title('Accuracy and Loss')\n",
    "plt.xlabel('Epoch')\n",
    "plt.ylabel('Loss|Accuracy')\n",
    "plt.legend()"
   ]
  },
  {
   "cell_type": "code",
   "execution_count": 0,
   "metadata": {
    "colab": {},
    "colab_type": "code",
    "id": "JBv16EcPwNx4"
   },
   "outputs": [],
   "source": [
    "model.load_weights(path_come + '/model.hdf5')"
   ]
  },
  {
   "cell_type": "code",
   "execution_count": 59,
   "metadata": {
    "colab": {
     "base_uri": "https://localhost:8080/",
     "height": 50
    },
    "colab_type": "code",
    "executionInfo": {
     "elapsed": 2369,
     "status": "ok",
     "timestamp": 1591950080860,
     "user": {
      "displayName": "Thắng Nam",
      "photoUrl": "",
      "userId": "14647224858970176131"
     },
     "user_tz": -420
    },
    "id": "taczwz1AwS5g",
    "outputId": "99f6563c-ad60-4520-a596-1576dec53e1b"
   },
   "outputs": [
    {
     "name": "stdout",
     "output_type": "stream",
     "text": [
      "566/566 [==============================] - 2s 3ms/step - loss: 0.2230 - accuracy: 0.9280\n"
     ]
    },
    {
     "data": {
      "text/plain": [
       "[0.2229585498571396, 0.9279717206954956]"
      ]
     },
     "execution_count": 59,
     "metadata": {
      "tags": []
     },
     "output_type": "execute_result"
    }
   ],
   "source": [
    "model.evaluate(x_test, Y_test)"
   ]
  },
  {
   "cell_type": "code",
   "execution_count": 79,
   "metadata": {
    "colab": {
     "base_uri": "https://localhost:8080/",
     "height": 264
    },
    "colab_type": "code",
    "executionInfo": {
     "elapsed": 851,
     "status": "ok",
     "timestamp": 1591951147462,
     "user": {
      "displayName": "Thắng Nam",
      "photoUrl": "",
      "userId": "14647224858970176131"
     },
     "user_tz": -420
    },
    "id": "hEqCICRogS3Y",
    "outputId": "6acbce82-aced-4d71-8928-46a4ab0b9bfe"
   },
   "outputs": [
    {
     "data": {
      "image/png": "[encoded data removed]",
      "text/plain": [
       "<Figure size 432x288 with 4 Axes>"
      ]
     },
     "metadata": {
      "needs_background": "light",
      "tags": []
     },
     "output_type": "display_data"
    }
   ],
   "source": [
    "import os\n",
    "import glob\n",
    "\n",
    "test_path = os.path.join(path_come, '*g') \n",
    "files = glob.glob(test_path)\n",
    "\n",
    "i = 0\n",
    "for f1 in files:\n",
    "    img = cv2.imread(f1, cv2.IMREAD_GRAYSCALE)\n",
    "    ax = plt.subplot(2, 2, i+1)\n",
    "    plt.imshow(img, cmap='Greys')\n",
    "    plt.axis('off')\n",
    "    img = cv2.resize(img, (28, 28))\n",
    "    img = img.reshape(1, 28, 28, 1)\n",
    "    x = model.predict(img)\n",
    "    y = np.where(x==1)\n",
    "    ax.title.set_text('Is predicted to be ' + le.classes_[y[1][0]])\n",
    "    i +=1\n",
    "    # print('file \\'' + os.path.basename(f1) + '\\' is predicted to be ' + le.classes_[y[1][0]])"
   ]
  }
 ],
 "metadata": {
  "accelerator": "GPU",
  "colab": {
   "authorship_tag": "ABX9TyOEueRRoRFcw61NxLBpc5tp",
   "collapsed_sections": [],
   "mount_file_id": "13AKavwC91BQRKFNMBGqvMnuV8JTVIcwE",
   "name": "EMNIST.ipynb",
   "provenance": []
  },
  "kernelspec": {
   "display_name": "Python 3",
   "language": "python",
   "name": "python3"
  },
  "language_info": {
   "codemirror_mode": {
    "name": "ipython",
    "version": 3
   },
   "file_extension": ".py",
   "mimetype": "text/x-python",
   "name": "python",
   "nbconvert_exporter": "python",
   "pygments_lexer": "ipython3",
   "version": "3.7.5"
  }
 },
 "nbformat": 4,
 "nbformat_minor": 1
}
