{
 "cells": [
  {
   "cell_type": "code",
   "execution_count": 25,
   "metadata": {},
   "outputs": [
    {
     "name": "stdout",
     "output_type": "stream",
     "text": [
      "Ad sales boost Time Warner profit\n",
      "\n",
      "The firm, which is now one of the biggest investors in Google, benefited from sales of high-speed internet connections and higher advert sales. TimeWarner said fourth quarter sales rose 2% to $11.1bn from $10.9bn. Its profits were buoyed by one-off gains which offset a profit dip at Warner Bros, and less users for AOL.\n",
      "\n",
      "Time Warner's fourth quarter profits were slightly better than analysts' expectations. But its film division saw profits slump 27% to $284m, helped by box-office flops Alexander and Catwoman, a sharp contrast to year-earlier, when the third and final film in the Lord of the Rings trilogy boosted results. For the full-year, TimeWarner posted a profit of $3.36bn, up 27% from its 2003 performance, while revenues grew 6.4% to $42.09bn. \"Our financial performance was strong, meeting or exceeding all of our full-year objectives and greatly enhancing our flexibility,\" chairman and chief executive Richard Parsons said. For 2005, TimeWarner is projecting operating earnings growth of around 5%, and also expects higher revenue and wider profit margins.\n"
     ]
    }
   ],
   "source": [
    "input_str = \"\"\"Ad sales boost Time Warner profit\n",
    "\n",
    "The firm, which is now one of the biggest investors in Google, benefited from sales of high-speed internet connections and higher advert sales. TimeWarner said fourth quarter sales rose 2% to $11.1bn from $10.9bn. Its profits were buoyed by one-off gains which offset a profit dip at Warner Bros, and less users for AOL.\n",
    "\n",
    "Time Warner's fourth quarter profits were slightly better than analysts' expectations. But its film division saw profits slump 27% to $284m, helped by box-office flops Alexander and Catwoman, a sharp contrast to year-earlier, when the third and final film in the Lord of the Rings trilogy boosted results. For the full-year, TimeWarner posted a profit of $3.36bn, up 27% from its 2003 performance, while revenues grew 6.4% to $42.09bn. \"Our financial performance was strong, meeting or exceeding all of our full-year objectives and greatly enhancing our flexibility,\" chairman and chief executive Richard Parsons said. For 2005, TimeWarner is projecting operating earnings growth of around 5%, and also expects higher revenue and wider profit margins.\"\"\"\n",
    "\n",
    "print(input_str)"
   ]
  },
  {
   "cell_type": "code",
   "execution_count": 26,
   "metadata": {},
   "outputs": [
    {
     "name": "stdout",
     "output_type": "stream",
     "text": [
      "ad sales boost time warner profit\n",
      "\n",
      "the firm which is now one of the biggest investors in google benefited from sales of highspeed internet connections and higher advert sales timewarner said fourth quarter sales rose  to bn from bn its profits were buoyed by oneoff gains which offset a profit dip at warner bros and less users for aol\n",
      "\n",
      "time warners fourth quarter profits were slightly better than analysts expectations but its film division saw profits slump  to m helped by boxoffice flops alexander and catwoman a sharp contrast to yearearlier when the third and final film in the lord of the rings trilogy boosted results for the fullyear timewarner posted a profit of bn up  from its  performance while revenues grew  to bn our financial performance was strong meeting or exceeding all of our fullyear objectives and greatly enhancing our flexibility chairman and chief executive richard parsons said for  timewarner is projecting operating earnings growth of around  and also expects higher revenue and wider profit margins\n"
     ]
    }
   ],
   "source": [
    "import string\n",
    "import re\n",
    "from nltk.tokenize import word_tokenize\n",
    "\n",
    "input_str = input_str.translate(str.maketrans('', '', string.punctuation))\n",
    "input_str = re.sub(r'\\d+', '', input_str)\n",
    "input_str = input_str.lower()\n",
    "input_str = input_str.strip()\n",
    "\n",
    "print(input_str)"
   ]
  },
  {
   "cell_type": "code",
   "execution_count": 27,
   "metadata": {},
   "outputs": [
    {
     "name": "stdout",
     "output_type": "stream",
     "text": [
      "ad sale boost time warner profit the firm which is now one of the biggest investor in googl benefit from sale of highspe internet connect and higher advert sale timewarn said fourth quarter sale rose to bn from bn it profit were buoy by oneoff gain which offset a profit dip at warner bro and less user for aol time warner fourth quarter profit were slightli better than analyst expect but it film divis saw profit slump to m help by boxoffic flop alexand and catwoman a sharp contrast to yearearli when the third and final film in the lord of the ring trilog boost result for the fullyear timewarn post a profit of bn up from it perform while revenu grew to bn our financi perform wa strong meet or exceed all of our fullyear object and greatli enhanc our flexibl chairman and chief execut richard parson said for timewarn is project oper earn growth of around and also expect higher revenu and wider profit margin \n"
     ]
    }
   ],
   "source": [
    "from nltk.stem import PorterStemmer\n",
    "\n",
    "output_str = ''\n",
    "stemmer = PorterStemmer()\n",
    "input_str = word_tokenize(input_str)\n",
    "\n",
    "for word in input_str:\n",
    "    output_str += stemmer.stem(word) + ' '\n",
    "    \n",
    "input_str = output_str\n",
    "\n",
    "print(input_str)"
   ]
  },
  {
   "cell_type": "code",
   "execution_count": 28,
   "metadata": {},
   "outputs": [
    {
     "name": "stdout",
     "output_type": "stream",
     "text": [
      "ad sale boost time warner profit the firm which is now one of the biggest investor in googl benefit from sale of highspe internet connect and higher advert sale timewarn said fourth quarter sale rose to bn from bn it profit were buoy by oneoff gain which offset a profit dip at warner bro and le user for aol time warner fourth quarter profit were slightli better than analyst expect but it film divis saw profit slump to m help by boxoffic flop alexand and catwoman a sharp contrast to yearearli when the third and final film in the lord of the ring trilog boost result for the fullyear timewarn post a profit of bn up from it perform while revenu grew to bn our financi perform wa strong meet or exceed all of our fullyear object and greatli enhanc our flexibl chairman and chief execut richard parson said for timewarn is project oper earn growth of around and also expect higher revenu and wider profit margin \n"
     ]
    }
   ],
   "source": [
    "from nltk.stem import WordNetLemmatizer\n",
    "\n",
    "output_str = ''\n",
    "lemmatizer = WordNetLemmatizer()\n",
    "input_str = word_tokenize(input_str)\n",
    "\n",
    "for word in input_str:\n",
    "    output_str += lemmatizer.lemmatize(word) + ' '\n",
    "    \n",
    "input_str = output_str\n",
    "\n",
    "print(input_str)"
   ]
  },
  {
   "cell_type": "code",
   "execution_count": 29,
   "metadata": {},
   "outputs": [
    {
     "name": "stdout",
     "output_type": "stream",
     "text": [
      "ad sale boost time warner profit firm one biggest investor googl benefit sale highspe internet connect higher advert sale timewarn said fourth quarter sale rose bn bn profit buoy oneoff gain offset profit dip warner bro le user aol time warner fourth quarter profit slightli better analyst expect film divis saw profit slump help boxoffic flop alexand catwoman sharp contrast yearearli third final film lord ring trilog boost result fullyear timewarn post profit bn perform revenu grew bn financi perform wa strong meet exceed fullyear object greatli enhanc flexibl chairman chief execut richard parson said timewarn project oper earn growth around also expect higher revenu wider profit margin \n"
     ]
    }
   ],
   "source": [
    "from nltk.corpus import stopwords\n",
    "\n",
    "output_str = ''\n",
    "input_str = word_tokenize(input_str)\n",
    "stopwords = set(stopwords.words('english'))\n",
    "\n",
    "for word in input_str:\n",
    "    if word not in stopwords:\n",
    "        output_str += word + ' '\n",
    "        \n",
    "input_str = output_str\n",
    "\n",
    "print(input_str)"
   ]
  },
  {
   "cell_type": "code",
   "execution_count": 31,
   "metadata": {},
   "outputs": [
    {
     "name": "stdout",
     "output_type": "stream",
     "text": [
      "dict_keys(['ad', 'sale', 'boost', 'time', 'warner', 'profit', 'firm', 'one', 'biggest', 'investor', 'googl', 'benefit', 'highspe', 'internet', 'connect', 'higher', 'advert', 'timewarn', 'said', 'fourth', 'quarter', 'rose', 'bn', 'buoy', 'oneoff', 'gain', 'offset', 'dip', 'bro', 'le', 'user', 'aol', 'slightli', 'better', 'analyst', 'expect', 'film', 'divis', 'saw', 'slump', 'help', 'boxoffic', 'flop', 'alexand', 'catwoman', 'sharp', 'contrast', 'yearearli', 'third', 'final', 'lord', 'ring', 'trilog', 'result', 'fullyear', 'post', 'perform', 'revenu', 'grew', 'financi', 'wa', 'strong', 'meet', 'exceed', 'object', 'greatli', 'enhanc', 'flexibl', 'chairman', 'chief', 'execut', 'richard', 'parson', 'project', 'oper', 'earn', 'growth', 'around', 'also', 'wider', 'margin'])\n",
      "\n",
      "\n",
      "dict_values([1, 4, 2, 2, 3, 7, 1, 1, 1, 1, 1, 1, 1, 1, 1, 2, 1, 3, 2, 2, 2, 1, 4, 1, 1, 1, 1, 1, 1, 1, 1, 1, 1, 1, 1, 2, 2, 1, 1, 1, 1, 1, 1, 1, 1, 1, 1, 1, 1, 1, 1, 1, 1, 1, 2, 1, 2, 2, 1, 1, 1, 1, 1, 1, 1, 1, 1, 1, 1, 1, 1, 1, 1, 1, 1, 1, 1, 1, 1, 1, 1])\n"
     ]
    }
   ],
   "source": [
    "from nltk import FreqDist\n",
    "\n",
    "input_str = word_tokenize(input_str)\n",
    "\n",
    "# FreqDist nhận vào một list các từ, trả về dict có keys là các từ và values là tần số suất hiện của các từ\n",
    "fdist = FreqDist(input_str)\n",
    "print(fdist.keys())\n",
    "print('\\n')\n",
    "print(fdist.values())"
   ]
  },
  {
   "cell_type": "code",
   "execution_count": null,
   "metadata": {},
   "outputs": [],
   "source": []
  }
 ],
 "metadata": {
  "kernelspec": {
   "display_name": "Python 3.7.5 64-bit",
   "language": "python",
   "name": "python37564bit216c3ddc699e4cf68650a34b2d6088fe"
  },
  "language_info": {
   "codemirror_mode": {
    "name": "ipython",
    "version": 3
   },
   "file_extension": ".py",
   "mimetype": "text/x-python",
   "name": "python",
   "nbconvert_exporter": "python",
   "pygments_lexer": "ipython3",
   "version": "3.7.5"
  }
 },
 "nbformat": 4,
 "nbformat_minor": 4
}
